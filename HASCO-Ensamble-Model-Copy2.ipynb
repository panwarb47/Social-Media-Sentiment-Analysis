{
 "cells": [
  {
   "cell_type": "code",
   "execution_count": 1,
   "metadata": {},
   "outputs": [],
   "source": [
    "import pandas as pd"
   ]
  },
  {
   "cell_type": "code",
   "execution_count": 2,
   "metadata": {
    "pycharm": {
     "is_executing": false
    }
   },
   "outputs": [],
   "source": [
    "import os, csv, re, nltk\n",
    "# import preprocessor as p\n"
   ]
  },
  {
   "cell_type": "code",
   "execution_count": 3,
   "metadata": {
    "pycharm": {
     "is_executing": false,
     "name": "#%%\n"
    }
   },
   "outputs": [],
   "source": [
    "def remove_emoji(string):\n",
    "    emoji_pattern = re.compile(\"[\"\n",
    "                               u\"\\U0001F600-\\U0001F64F\"  # emoticons\n",
    "                               u\"\\U0001F300-\\U0001F5FF\"  # symbols & pictographs\n",
    "                               u\"\\U0001F680-\\U0001F6FF\"  # transport & map symbols\n",
    "                               u\"\\U0001F1E0-\\U0001F1FF\"  # flags (iOS)\n",
    "                               u\"\\U00002702-\\U000027B0\"\n",
    "                               u\"\\U000024C2-\\U0001F251\"\n",
    "                               u\"\\U0001f926-\\U0001f937\"\n",
    "                               u'\\U00010000-\\U0010ffff'\n",
    "                               u\"\\u200d\"\n",
    "                               u\"\\u2640-\\u2642\"\n",
    "                               u\"\\u2600-\\u2B55\"\n",
    "                               u\"\\u23cf\"\n",
    "                               u\"\\u23e9\"\n",
    "                               u\"\\u231a\"\n",
    "                               u\"\\u3030\"\n",
    "                               u\"\\ufe0f\"\n",
    "                               \"]+\", flags=re.UNICODE)\n",
    "    return emoji_pattern.sub(r'', string)\n"
   ]
  },
  {
   "cell_type": "code",
   "execution_count": 4,
   "metadata": {
    "pycharm": {
     "is_executing": false,
     "name": "#%%\n"
    }
   },
   "outputs": [],
   "source": [
    "train_path = os.path.join('C:\\\\Users\\\\HP\\\\Desktop\\\\english_ELECTION - rahul.csv')\n",
    "\n",
    "eng_stopwords = set(nltk.corpus.stopwords.words(\"english\"))\n",
    "\n",
    "tknzr = nltk.TweetTokenizer(strip_handles=True)\n",
    "\n",
    "text, label1, label2, label3 = [], [], [], []\n",
    "with open(os.path.abspath(train_path), 'r', encoding='utf-8',errors='ignore')as f:\n",
    "    line_count = 0\n",
    "    data = csv.reader(f, delimiter=',' )\n",
    "    for row in data:\n",
    "        if line_count == 0:\n",
    "            pass\n",
    "        else:\n",
    "            # text_input = remove_emoji(p.tokenize(p.clean(row[1])))\n",
    "            text_input = tknzr.tokenize(row[0].strip())\n",
    "            text_input = remove_emoji(\" \".join([t for t in text_input if not t.startswith('http')]))\n",
    "            text_input = tknzr.tokenize(text_input)\n",
    "            text.append(\" \".join([t for t in text_input if t not in eng_stopwords]))\n",
    "            label1.append(row[1])\n",
    "            label2.append(row[2])\n",
    "            label3.append(row[3])\n",
    "        line_count += 1\n",
    "\n"
   ]
  },
  {
   "cell_type": "code",
   "execution_count": 5,
   "metadata": {
    "pycharm": {
     "is_executing": false,
     "name": "#%%\n"
    }
   },
   "outputs": [
    {
     "name": "stdout",
     "output_type": "stream",
     "text": [
      "\" If Modiji takes 15lakh Suit comes villages , see value MNREGA \" : Watch :\n"
     ]
    }
   ],
   "source": [
    "print(text[0])\n"
   ]
  },
  {
   "cell_type": "code",
   "execution_count": 6,
   "metadata": {
    "pycharm": {
     "is_executing": false,
     "name": "#%%\n"
    }
   },
   "outputs": [
    {
     "name": "stdout",
     "output_type": "stream",
     "text": [
      "(456, 5630)\n",
      "(1062, 5630)\n"
     ]
    }
   ],
   "source": [
    "from sklearn.model_selection import train_test_split\n",
    "from sklearn.feature_extraction.text import TfidfVectorizer\n",
    "\n",
    "\n",
    "from sklearn.pipeline import Pipeline\n",
    "from sklearn.model_selection import cross_val_score\n",
    "from sklearn.naive_bayes import MultinomialNB\n",
    "from xgboost import XGBClassifier\n",
    "from sklearn.linear_model import SGDClassifier, LogisticRegression\n",
    "from sklearn.svm import SVC, LinearSVC\n",
    "from sklearn.metrics import accuracy_score, classification_report\n",
    "from sklearn.ensemble import RandomForestClassifier, GradientBoostingClassifier\n",
    "\n",
    "# \n",
    "X_train, X_test, y_train, y_test = train_test_split(text, label1, test_size=0.3,stratify=label1,shuffle=True)\n",
    "\n",
    "\n",
    "tfidf_transformer = TfidfVectorizer()\n",
    "tfidf_transformer.fit_transform(text)\n",
    "\n",
    "X_train_tfidf = tfidf_transformer.transform(X_train)\n",
    "X_test_tfidf = tfidf_transformer.transform(X_test)\n",
    "\n",
    "print(X_test_tfidf.shape)\n",
    "print(X_train_tfidf.shape)\n",
    "\n",
    "gnb = MultinomialNB()\n",
    "sgd = SGDClassifier(loss='hinge', penalty='l2', alpha=1e-3, max_iter=50, random_state=42)\n",
    "lr = LogisticRegression()\n",
    "lin_svc = SVC(kernel='linear',probability=True)\n",
    "model = XGBClassifier()\n",
    "rf=RandomForestClassifier(n_estimators=48)\n"
   ]
  },
  {
   "cell_type": "code",
   "execution_count": 7,
   "metadata": {},
   "outputs": [
    {
     "name": "stdout",
     "output_type": "stream",
     "text": [
      "(456, 5630)\n",
      "(1062, 5630)\n"
     ]
    }
   ],
   "source": [
    "X_trainB, X_testB, y_trainB, y_testB = train_test_split(text, label2, test_size=0.3,stratify=label2)\n",
    "\n",
    "\n",
    "tfidf_transformerB = TfidfVectorizer()\n",
    "tfidf_transformerB.fit_transform(text)\n",
    "\n",
    "X_train_tfidfB = tfidf_transformerB.transform(X_trainB)\n",
    "X_test_tfidfB = tfidf_transformerB.transform(X_testB)\n",
    "\n",
    "print(X_test_tfidfB.shape)\n",
    "print(X_train_tfidfB.shape)\n",
    "\n",
    "gnbB = MultinomialNB()\n",
    "sgdB = SGDClassifier(loss='hinge', penalty='l2', alpha=1e-3, max_iter=50, random_state=42)\n",
    "lrB = LogisticRegression()\n",
    "lin_svcB = SVC(kernel='linear',probability=True)\n",
    "modelB = XGBClassifier()\n",
    "rfB=RandomForestClassifier(n_estimators=48)"
   ]
  },
  {
   "cell_type": "code",
   "execution_count": 8,
   "metadata": {},
   "outputs": [
    {
     "name": "stdout",
     "output_type": "stream",
     "text": [
      "(456, 5630)\n",
      "(1062, 5630)\n"
     ]
    }
   ],
   "source": [
    "X_trainC, X_testC, y_trainC, y_testC = train_test_split(text, label3, test_size=0.3,stratify=label3)\n",
    "\n",
    "\n",
    "tfidf_transformerC = TfidfVectorizer()\n",
    "tfidf_transformerC.fit_transform(text)\n",
    "\n",
    "X_train_tfidfC = tfidf_transformerC.transform(X_trainC)\n",
    "X_test_tfidfC = tfidf_transformerC.transform(X_testC)\n",
    "\n",
    "print(X_test_tfidfC.shape)\n",
    "print(X_train_tfidfC.shape)\n",
    "\n",
    "gnbC = MultinomialNB()\n",
    "sgdC = SGDClassifier(loss='hinge', penalty='l2', alpha=1e-3, max_iter=50, random_state=42)\n",
    "lrC = LogisticRegression()\n",
    "lin_svcC = SVC(kernel='linear',probability=True)\n",
    "modelC = XGBClassifier()\n",
    "rfC=RandomForestClassifier(n_estimators=48)"
   ]
  },
  {
   "cell_type": "code",
   "execution_count": 9,
   "metadata": {},
   "outputs": [
    {
     "data": {
      "text/plain": [
       "99"
      ]
     },
     "execution_count": 9,
     "metadata": {},
     "output_type": "execute_result"
    }
   ],
   "source": [
    "y_trainB.count(\"OFFN\")"
   ]
  },
  {
   "cell_type": "code",
   "execution_count": 10,
   "metadata": {},
   "outputs": [
    {
     "data": {
      "text/plain": [
       "139"
      ]
     },
     "execution_count": 10,
     "metadata": {},
     "output_type": "execute_result"
    }
   ],
   "source": [
    "y_trainB.count(\"HATE\")"
   ]
  },
  {
   "cell_type": "code",
   "execution_count": 11,
   "metadata": {},
   "outputs": [
    {
     "data": {
      "text/plain": [
       "42"
      ]
     },
     "execution_count": 11,
     "metadata": {},
     "output_type": "execute_result"
    }
   ],
   "source": [
    "y_testB.count(\"OFFN\")"
   ]
  },
  {
   "cell_type": "code",
   "execution_count": 12,
   "metadata": {},
   "outputs": [
    {
     "data": {
      "text/plain": [
       "60"
      ]
     },
     "execution_count": 12,
     "metadata": {},
     "output_type": "execute_result"
    }
   ],
   "source": [
    "y_testB.count(\"HATE\")"
   ]
  },
  {
   "cell_type": "code",
   "execution_count": 13,
   "metadata": {
    "pycharm": {
     "is_executing": false,
     "name": "#%%\n"
    }
   },
   "outputs": [
    {
     "name": "stderr",
     "output_type": "stream",
     "text": [
      "C:\\Users\\HP\\Anaconda3\\lib\\site-packages\\sklearn\\linear_model\\logistic.py:432: FutureWarning: Default solver will be changed to 'lbfgs' in 0.22. Specify a solver to silence this warning.\n",
      "  FutureWarning)\n"
     ]
    },
    {
     "name": "stdout",
     "output_type": "stream",
     "text": [
      "TASK A\n",
      "\n",
      "\n",
      "Multinomial Naive-Bayes accuracy :  0.8245614035087719\n",
      "\n",
      "\n",
      "Multinomial Naive-Bayes Classification Report :                precision    recall  f1-score   support\n",
      "\n",
      "         HOF       0.92      0.24      0.38       102\n",
      "         NOT       0.82      0.99      0.90       354\n",
      "\n",
      "    accuracy                           0.82       456\n",
      "   macro avg       0.87      0.61      0.64       456\n",
      "weighted avg       0.84      0.82      0.78       456\n",
      "\n",
      "SGD accuracy :  0.8333333333333334\n",
      "\n",
      "\n",
      "SGD Classification Report :                precision    recall  f1-score   support\n",
      "\n",
      "         HOF       0.70      0.45      0.55       102\n",
      "         NOT       0.86      0.94      0.90       354\n",
      "\n",
      "    accuracy                           0.83       456\n",
      "   macro avg       0.78      0.70      0.72       456\n",
      "weighted avg       0.82      0.83      0.82       456\n",
      "\n",
      "LR accuracy :  0.8179824561403509\n",
      "\n",
      "\n",
      "LR Classification Report :                precision    recall  f1-score   support\n",
      "\n",
      "         HOF       0.88      0.22      0.35       102\n",
      "         NOT       0.81      0.99      0.89       354\n",
      "\n",
      "    accuracy                           0.82       456\n",
      "   macro avg       0.85      0.60      0.62       456\n",
      "weighted avg       0.83      0.82      0.77       456\n",
      "\n",
      "LinSVC accuracy :  0.8223684210526315\n",
      "\n",
      "\n",
      "LinSVC Classification Report :                precision    recall  f1-score   support\n",
      "\n",
      "         HOF       0.64      0.46      0.54       102\n",
      "         NOT       0.86      0.93      0.89       354\n",
      "\n",
      "    accuracy                           0.82       456\n",
      "   macro avg       0.75      0.69      0.71       456\n",
      "weighted avg       0.81      0.82      0.81       456\n",
      "\n",
      "XGD accuracy :  0.8333333333333334\n",
      "\n",
      "\n",
      "XGD Classification Report :                precision    recall  f1-score   support\n",
      "\n",
      "         HOF       0.70      0.45      0.55       102\n",
      "         NOT       0.86      0.94      0.90       354\n",
      "\n",
      "    accuracy                           0.83       456\n",
      "   macro avg       0.78      0.70      0.72       456\n",
      "weighted avg       0.82      0.83      0.82       456\n",
      "\n",
      "RF accuracy :  0.8289473684210527\n",
      "\n",
      "\n",
      "RF Classification Report :                precision    recall  f1-score   support\n",
      "\n",
      "         HOF       0.70      0.41      0.52       102\n",
      "         NOT       0.85      0.95      0.90       354\n",
      "\n",
      "    accuracy                           0.83       456\n",
      "   macro avg       0.77      0.68      0.71       456\n",
      "weighted avg       0.82      0.83      0.81       456\n",
      "\n"
     ]
    }
   ],
   "source": [
    "gnb.fit(X_train_tfidf, y_train)\n",
    "sgd.fit(X_train_tfidf, y_train)\n",
    "lr.fit(X_train_tfidf, y_train)\n",
    "lin_svc.fit(X_train_tfidf, y_train)\n",
    "model.fit(X_train_tfidf, y_train)\n",
    "rf.fit(X_train_tfidf, y_train)\n",
    "\n",
    "pred_gnb = gnb.predict(X_test_tfidf)\n",
    "pred_sgd = sgd.predict(X_test_tfidf)\n",
    "pred_lr = lr.predict(X_test_tfidf)\n",
    "pred_model=model.predict(X_test_tfidf)\n",
    "pred_lin_svc = lin_svc.predict(X_test_tfidf)\n",
    "pred_rf = rf.predict(X_test_tfidf)\n",
    "\n",
    "print(\"TASK A\")\n",
    "print('\\n')\n",
    "\n",
    "print(\"Multinomial Naive-Bayes accuracy : \",accuracy_score(y_test, pred_gnb, normalize = True))\n",
    "print('\\n')\n",
    "print(\"Multinomial Naive-Bayes Classification Report : \",classification_report(y_test, pred_gnb))\n",
    "\n",
    "print(\"SGD accuracy : \",accuracy_score(y_test, pred_sgd, normalize = True))\n",
    "print('\\n')\n",
    "print(\"SGD Classification Report : \",classification_report(y_test, pred_sgd))\n",
    " \n",
    "print(\"LR accuracy : \",accuracy_score(y_test, pred_lr, normalize = True))\n",
    "print('\\n')\n",
    "print(\"LR Classification Report : \",classification_report(y_test, pred_lr))\n",
    "\n",
    "print(\"LinSVC accuracy : \",accuracy_score(y_test, pred_lin_svc, normalize = True))\n",
    "print('\\n')\n",
    "print(\"LinSVC Classification Report : \",classification_report(y_test, pred_lin_svc))\n",
    "\n",
    "\n",
    "print(\"XGD accuracy : \",accuracy_score(y_test, pred_model, normalize = True))\n",
    "print('\\n')\n",
    "print(\"XGD Classification Report : \",classification_report(y_test, pred_model))\n",
    "\n",
    "print(\"RF accuracy : \",accuracy_score(y_test, pred_rf, normalize = True))\n",
    "print('\\n')\n",
    "print(\"RF Classification Report : \",classification_report(y_test, pred_rf))\n",
    "\n"
   ]
  },
  {
   "cell_type": "code",
   "execution_count": 14,
   "metadata": {},
   "outputs": [
    {
     "name": "stderr",
     "output_type": "stream",
     "text": [
      "C:\\Users\\HP\\Anaconda3\\lib\\site-packages\\sklearn\\linear_model\\logistic.py:432: FutureWarning: Default solver will be changed to 'lbfgs' in 0.22. Specify a solver to silence this warning.\n",
      "  FutureWarning)\n",
      "C:\\Users\\HP\\Anaconda3\\lib\\site-packages\\sklearn\\linear_model\\logistic.py:469: FutureWarning: Default multi_class will be changed to 'auto' in 0.22. Specify the multi_class option to silence this warning.\n",
      "  \"this warning.\", FutureWarning)\n"
     ]
    },
    {
     "name": "stdout",
     "output_type": "stream",
     "text": [
      "TASK B\n",
      "\n",
      "\n",
      "Multinomial Naive-Bayes accuracy :  0.7850877192982456\n",
      "\n",
      "\n",
      "Multinomial Naive-Bayes Classification Report :                precision    recall  f1-score   support\n",
      "\n",
      "        HATE       0.40      0.03      0.06        60\n",
      "        NONE       0.79      1.00      0.88       354\n",
      "        OFFN       1.00      0.05      0.09        42\n",
      "\n",
      "    accuracy                           0.79       456\n",
      "   macro avg       0.73      0.36      0.34       456\n",
      "weighted avg       0.76      0.79      0.70       456\n",
      "\n",
      "SGD accuracy :  0.8135964912280702\n",
      "\n",
      "\n",
      "SGD Classification Report :                precision    recall  f1-score   support\n",
      "\n",
      "        HATE       0.36      0.15      0.21        60\n",
      "        NONE       0.85      0.97      0.90       354\n",
      "        OFFN       0.73      0.45      0.56        42\n",
      "\n",
      "    accuracy                           0.81       456\n",
      "   macro avg       0.65      0.52      0.56       456\n",
      "weighted avg       0.77      0.81      0.78       456\n",
      "\n",
      "LR accuracy :  0.7807017543859649\n",
      "\n",
      "\n",
      "LR Classification Report :                precision    recall  f1-score   support\n",
      "\n",
      "        HATE       0.50      0.02      0.03        60\n",
      "        NONE       0.78      1.00      0.88       354\n",
      "        OFFN       1.00      0.05      0.09        42\n",
      "\n",
      "    accuracy                           0.78       456\n",
      "   macro avg       0.76      0.35      0.33       456\n",
      "weighted avg       0.76      0.78      0.69       456\n",
      "\n",
      "LinSVC accuracy :  0.8179824561403509\n",
      "\n",
      "\n",
      "LinSVC Classification Report :                precision    recall  f1-score   support\n",
      "\n",
      "        HATE       0.39      0.18      0.25        60\n",
      "        NONE       0.85      0.97      0.90       354\n",
      "        OFFN       0.83      0.45      0.58        42\n",
      "\n",
      "    accuracy                           0.82       456\n",
      "   macro avg       0.69      0.53      0.58       456\n",
      "weighted avg       0.79      0.82      0.79       456\n",
      "\n",
      "XGD accuracy :  0.8092105263157895\n",
      "\n",
      "\n",
      "XGD Classification Report :                precision    recall  f1-score   support\n",
      "\n",
      "        HATE       0.41      0.18      0.25        60\n",
      "        NONE       0.84      0.96      0.90       354\n",
      "        OFFN       0.81      0.40      0.54        42\n",
      "\n",
      "    accuracy                           0.81       456\n",
      "   macro avg       0.68      0.52      0.56       456\n",
      "weighted avg       0.78      0.81      0.78       456\n",
      "\n",
      "RF accuracy :  0.8201754385964912\n",
      "\n",
      "\n",
      "RF Classification Report :                precision    recall  f1-score   support\n",
      "\n",
      "        HATE       0.40      0.20      0.27        60\n",
      "        NONE       0.85      0.96      0.90       354\n",
      "        OFFN       0.81      0.52      0.64        42\n",
      "\n",
      "    accuracy                           0.82       456\n",
      "   macro avg       0.69      0.56      0.60       456\n",
      "weighted avg       0.79      0.82      0.79       456\n",
      "\n"
     ]
    }
   ],
   "source": [
    "gnbB.fit(X_train_tfidfB, y_trainB)\n",
    "sgdB.fit(X_train_tfidfB, y_trainB)\n",
    "lrB.fit(X_train_tfidfB, y_trainB)\n",
    "lin_svcB.fit(X_train_tfidfB, y_trainB)\n",
    "modelB.fit(X_train_tfidfB, y_trainB)\n",
    "rfB.fit(X_train_tfidfB, y_trainB)\n",
    "\n",
    "pred_gnbB = gnbB.predict(X_test_tfidfB)\n",
    "pred_sgdB = sgdB.predict(X_test_tfidfB)\n",
    "pred_lrB = lrB.predict(X_test_tfidfB)\n",
    "pred_modelB=modelB.predict(X_test_tfidfB)\n",
    "pred_lin_svcB = lin_svcB.predict(X_test_tfidfB)\n",
    "pred_rfB = rfB.predict(X_test_tfidfB)\n",
    "\n",
    "print(\"TASK B\")\n",
    "print('\\n')\n",
    "\n",
    "print(\"Multinomial Naive-Bayes accuracy : \",accuracy_score(y_testB, pred_gnbB, normalize = True))\n",
    "print('\\n')\n",
    "print(\"Multinomial Naive-Bayes Classification Report : \",classification_report(y_testB, pred_gnbB))\n",
    "\n",
    "print(\"SGD accuracy : \",accuracy_score(y_testB, pred_sgdB, normalize = True))\n",
    "print('\\n')\n",
    "print(\"SGD Classification Report : \",classification_report(y_testB, pred_sgdB))\n",
    " \n",
    "print(\"LR accuracy : \",accuracy_score(y_testB, pred_lrB, normalize = True))\n",
    "print('\\n')\n",
    "print(\"LR Classification Report : \",classification_report(y_testB, pred_lrB))\n",
    "\n",
    "print(\"LinSVC accuracy : \",accuracy_score(y_testB, pred_lin_svcB, normalize = True))\n",
    "print('\\n')\n",
    "print(\"LinSVC Classification Report : \",classification_report(y_testB, pred_lin_svcB))\n",
    "\n",
    "print(\"XGD accuracy : \",accuracy_score(y_testB, pred_modelB, normalize = True))\n",
    "print('\\n')\n",
    "print(\"XGD Classification Report : \",classification_report(y_testB, pred_modelB))\n",
    "\n",
    "print(\"RF accuracy : \",accuracy_score(y_testB, pred_rfB, normalize = True))\n",
    "print('\\n')\n",
    "print(\"RF Classification Report : \",classification_report(y_testB, pred_rfB))\n"
   ]
  },
  {
   "cell_type": "code",
   "execution_count": 15,
   "metadata": {},
   "outputs": [
    {
     "name": "stderr",
     "output_type": "stream",
     "text": [
      "C:\\Users\\HP\\Anaconda3\\lib\\site-packages\\sklearn\\linear_model\\logistic.py:432: FutureWarning: Default solver will be changed to 'lbfgs' in 0.22. Specify a solver to silence this warning.\n",
      "  FutureWarning)\n",
      "C:\\Users\\HP\\Anaconda3\\lib\\site-packages\\sklearn\\linear_model\\logistic.py:469: FutureWarning: Default multi_class will be changed to 'auto' in 0.22. Specify the multi_class option to silence this warning.\n",
      "  \"this warning.\", FutureWarning)\n"
     ]
    },
    {
     "name": "stdout",
     "output_type": "stream",
     "text": [
      "TASK C\n",
      "\n",
      "\n",
      "Multinomial Naive-Bayes accuracy :  0.8333333333333334\n",
      "\n",
      "\n",
      "Multinomial Naive-Bayes Classification Report :                precision    recall  f1-score   support\n",
      "\n",
      "        NONE       0.83      1.00      0.91       354\n",
      "         TIN       0.90      0.30      0.45        91\n",
      "         UNT       0.00      0.00      0.00        11\n",
      "\n",
      "    accuracy                           0.83       456\n",
      "   macro avg       0.58      0.43      0.45       456\n",
      "weighted avg       0.82      0.83      0.79       456\n",
      "\n",
      "SGD accuracy :  0.8486842105263158\n",
      "\n",
      "\n",
      "SGD Classification Report :                precision    recall  f1-score   support\n",
      "\n",
      "        NONE       0.87      0.96      0.91       354\n",
      "         TIN       0.73      0.49      0.59        91\n",
      "         UNT       0.50      0.27      0.35        11\n",
      "\n",
      "    accuracy                           0.85       456\n",
      "   macro avg       0.70      0.57      0.62       456\n",
      "weighted avg       0.84      0.85      0.84       456\n",
      "\n",
      "LR accuracy :  0.8289473684210527\n",
      "\n",
      "\n",
      "LR Classification Report :                precision    recall  f1-score   support\n",
      "\n",
      "        NONE       0.82      1.00      0.90       354\n",
      "         TIN       1.00      0.26      0.42        91\n",
      "         UNT       0.00      0.00      0.00        11\n",
      "\n",
      "    accuracy                           0.83       456\n",
      "   macro avg       0.61      0.42      0.44       456\n",
      "weighted avg       0.84      0.83      0.78       456\n",
      "\n",
      "LinSVC accuracy :  0.8464912280701754\n",
      "\n",
      "\n",
      "LinSVC Classification Report :                precision    recall  f1-score   support\n",
      "\n",
      "        NONE       0.87      0.95      0.91       354\n",
      "         TIN       0.70      0.52      0.59        91\n",
      "         UNT       0.50      0.09      0.15        11\n",
      "\n",
      "    accuracy                           0.85       456\n",
      "   macro avg       0.69      0.52      0.55       456\n",
      "weighted avg       0.83      0.85      0.83       456\n",
      "\n",
      "XGD accuracy :  0.8574561403508771\n",
      "\n",
      "\n",
      "XGD Classification Report :                precision    recall  f1-score   support\n",
      "\n",
      "        NONE       0.88      0.96      0.92       354\n",
      "         TIN       0.76      0.52      0.61        91\n",
      "         UNT       0.38      0.27      0.32        11\n",
      "\n",
      "    accuracy                           0.86       456\n",
      "   macro avg       0.67      0.58      0.62       456\n",
      "weighted avg       0.85      0.86      0.85       456\n",
      "\n",
      "RF accuracy :  0.8289473684210527\n",
      "\n",
      "\n",
      "RF Classification Report :                precision    recall  f1-score   support\n",
      "\n",
      "        NONE       0.87      0.95      0.91       354\n",
      "         TIN       0.64      0.46      0.54        91\n",
      "         UNT       0.20      0.09      0.13        11\n",
      "\n",
      "    accuracy                           0.83       456\n",
      "   macro avg       0.57      0.50      0.52       456\n",
      "weighted avg       0.81      0.83      0.81       456\n",
      "\n"
     ]
    },
    {
     "name": "stderr",
     "output_type": "stream",
     "text": [
      "C:\\Users\\HP\\Anaconda3\\lib\\site-packages\\sklearn\\metrics\\classification.py:1437: UndefinedMetricWarning: Precision and F-score are ill-defined and being set to 0.0 in labels with no predicted samples.\n",
      "  'precision', 'predicted', average, warn_for)\n"
     ]
    }
   ],
   "source": [
    "gnbC.fit(X_train_tfidfC, y_trainC)\n",
    "sgdC.fit(X_train_tfidfC, y_trainC)\n",
    "lrC.fit(X_train_tfidfC, y_trainC)\n",
    "lin_svcC.fit(X_train_tfidfC, y_trainC)\n",
    "modelC.fit(X_train_tfidfC, y_trainC)\n",
    "rfC.fit(X_train_tfidfC, y_trainC)\n",
    "\n",
    "pred_gnbC = gnbC.predict(X_test_tfidfC)\n",
    "pred_sgdC = sgdC.predict(X_test_tfidfC)\n",
    "pred_lrC = lrC.predict(X_test_tfidfC)\n",
    "pred_modelC=modelC.predict(X_test_tfidfC)\n",
    "pred_lin_svcC = lin_svcC.predict(X_test_tfidfC)\n",
    "pred_rfC = rfC.predict(X_test_tfidfC)\n",
    "\n",
    "print(\"TASK C\")\n",
    "print('\\n')\n",
    "\n",
    "print(\"Multinomial Naive-Bayes accuracy : \",accuracy_score(y_testC, pred_gnbC, normalize = True))\n",
    "print('\\n')\n",
    "print(\"Multinomial Naive-Bayes Classification Report : \",classification_report(y_testC, pred_gnbC))\n",
    "\n",
    "print(\"SGD accuracy : \",accuracy_score(y_testC, pred_sgdC, normalize = True))\n",
    "print('\\n')\n",
    "print(\"SGD Classification Report : \",classification_report(y_testC, pred_sgdC))\n",
    " \n",
    "print(\"LR accuracy : \",accuracy_score(y_testC, pred_lrC, normalize = True))\n",
    "print('\\n')\n",
    "print(\"LR Classification Report : \",classification_report(y_testC, pred_lrC))\n",
    "\n",
    "print(\"LinSVC accuracy : \",accuracy_score(y_testC, pred_lin_svcC, normalize = True))\n",
    "print('\\n')\n",
    "print(\"LinSVC Classification Report : \",classification_report(y_testC, pred_lin_svcC))\n",
    "\n",
    "print(\"XGD accuracy : \",accuracy_score(y_testC, pred_modelC, normalize = True))\n",
    "print('\\n')\n",
    "print(\"XGD Classification Report : \",classification_report(y_testC, pred_modelC))\n",
    "\n",
    "print(\"RF accuracy : \",accuracy_score(y_testC, pred_rfC, normalize = True))\n",
    "print('\\n')\n",
    "print(\"RF Classification Report : \",classification_report(y_testC, pred_rfC))\n"
   ]
  },
  {
   "cell_type": "code",
   "execution_count": null,
   "metadata": {},
   "outputs": [],
   "source": []
  }
 ],
 "metadata": {
  "kernelspec": {
   "display_name": "Python 3",
   "language": "python",
   "name": "python3"
  },
  "language_info": {
   "codemirror_mode": {
    "name": "ipython",
    "version": 3
   },
   "file_extension": ".py",
   "mimetype": "text/x-python",
   "name": "python",
   "nbconvert_exporter": "python",
   "pygments_lexer": "ipython3",
   "version": "3.7.3"
  },
  "pycharm": {
   "stem_cell": {
    "cell_type": "raw",
    "metadata": {
     "collapsed": false
    },
    "source": []
   }
  }
 },
 "nbformat": 4,
 "nbformat_minor": 1
}
